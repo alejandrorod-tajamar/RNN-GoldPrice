{
 "cells": [
  {
   "cell_type": "markdown",
   "id": "85a90e7a",
   "metadata": {},
   "source": [
    "### **Caso de Estudio: Predicción del Precio del Oro con Redes LSTM**  \n",
    "**Duración:** 1 semana  \n",
    "\n",
    "\n",
    "---\n",
    "\n",
    "## **1. Business Case Discovery**  \n",
    "### **1.1 Contexto del Negocio**  \n",
    "La empresa **Commodity Analytics** busca optimizar estrategias de inversión en metales preciosos. **El oro se ve afectado por factores macroeconómicos complejos (inflación, tasas de interés, crisis geopolíticas)** que dificultan el análisis manual. El objetivo es desarrollar un modelo predictivo que analice datos históricos **del precio del oro (XAU/USD) y variables macroeconómicas** para predecir su valor futuro.\n",
    "\n",
    " \n",
    "### **1.2 Objetivo del Proyecto**  \n",
    "Construir una LSTM que prediga el precio de cierre del oro para los próximos **5 días hábiles**, usando:\n",
    "- **Datos históricos diarios** (2010-2024)\n",
    "- **Indicadores macro:** Índice Dólar (DXY), tasas de interés FED, inflación , etc\n",
    "- **Métrica de éxito:** RMSE < 10% \n",
    "\n",
    "---\n",
    "\n",
    "## **2. Data Processing**  \n",
    "### **2.1 Fuentes de Datos**  \n",
    "- **Precio oro:** Yahoo Finance (`GC=F`) \n",
    "- **Datos macro:** Yahoo Finance "
   ]
  },
  {
   "cell_type": "code",
   "execution_count": null,
   "id": "5b3f2ec0",
   "metadata": {},
   "outputs": [],
   "source": [
    "# Todos los datos necesarios se pueden obtener con estos tickers públicos:\n",
    "import yfinance as yf\n",
    "\n",
    "# 1. Precio del oro (futuros)\n",
    "df_oro = yf.download(\"GC=F\", start=\"2010-01-01\")\n",
    "\n",
    "# 2. Índice Dólar (DXY)\n",
    "df_dxy = yf.download(\"DX-Y.NYB\", start=\"2010-01-01\")  # Ticker correcto para DXY\n",
    "\n",
    "# 3. Bonos 10 años (^TNX como proxy de tasas de interés)\n",
    "df_bonos = yf.download(\"^TNX\", start=\"2010-01-01\")\n",
    "\n",
    "# 4. Inflación (usar ETF TIP como proxy)\n",
    "df_inflacion = yf.download(\"TIP\", start=\"2010-01-01\")  # ETF de bonos indexados a inflación"
   ]
  },
  {
   "cell_type": "markdown",
   "id": "34018634",
   "metadata": {},
   "source": [
    "### **2.2 Ingeniería de Características**  \n",
    "**Variables clave para el oro:**\n",
    "1. **Ratio Oro/Dólar:** Precio oro ajustado por fuerza del USD (`Precio Oro / DXY`), Para evitar data leakage, se calcula la razón utilizando los valores del día anterior. De esta forma, para predecir el precio en el día t la característica se basa en datos hasta t–1 y no \"mira hacia el futuro\".\n",
    "2. **Inflación implícita:** Variación porcentual mensual del ETF TIP (proxy para CPI)\n",
    "3. **Tasa real aproximada** Rendimiento bonos 10 años (^TNX) - Inflación implícita  "
   ]
  },
  {
   "cell_type": "code",
   "execution_count": null,
   "id": "9e77add3",
   "metadata": {},
   "outputs": [],
   "source": [
    "oro = df_oro['Close']\n",
    "dxy = df_dxy['Close']\n",
    "bonos = df_bonos['Close']\n",
    "tip = df_inflacion['Close']\n",
    "\n",
    "df = pd.concat([oro, dxy, bonos, tip], axis=1)\n",
    "df.columns = [\"Oro\", \"DXY\", \"Bonos_10y\", \"TIP\"]\n",
    "\n",
    "# Calcular la razón usando un lag de 1 día para evitar target leakage\n",
    "df['Ratio_Oro_Dolar'] = df['Oro'].shift(1) / df['DXY'].shift(1)"
   ]
  },
  {
   "cell_type": "markdown",
   "id": "5b8b8a7a",
   "metadata": {},
   "source": [
    "**Variables técnicas (complementarias):**  \n",
    "- SMA de 200 días (identificar tendencias largas)  \n",
    "- Bandas de Bollinger (volatilidad histórica)  \n",
    "\n",
    "### **2.3 Ventana Temporal**  \n",
    "Estructurar los datos en secuencias de entrada-salida para entrenar la LSTM:  \n",
    "- **Look-back (ventana histórica):** 90 días de datos (precio oro, DXY, inflación implícita, ratio oro/dólar, volatilidad) como entrada.  \n",
    "- **Forecast horizon (horizonte de predicción):** 5 días futuros de precios de cierre del oro como salida.  \n",
    "- **Normalización robusta:** Usar `RobustScaler` para manejar outliers en crisis económicas.  \n",
    "- **Reformateo:** Transformar los datos en tensores 3D (muestras, pasos temporales, características) usando `TimeseriesGenerator` de Keras.  \n",
    "\n",
    "Ejemplo:"
   ]
  },
  {
   "cell_type": "code",
   "execution_count": null,
   "id": "8eb327e7",
   "metadata": {},
   "outputs": [],
   "source": [
    "# Crear secuencias temporales para LSTM\n",
    "look_back = 90  # 3 meses bursátiles\n",
    "horizon = 5     # Predecir 5 días futuros\n",
    "\n",
    "data_trimmed = data_scaled[:len(data_scaled)-horizon]\n",
    "\n",
    "generator = TimeseriesGenerator(\n",
    "    data_scaled,\n",
    "    targets=data_trimmed[:, 0],  # Predecir solo el precio del oro (columna 0)\n",
    "    length=look_back,\n",
    "    batch_size=32,\n",
    "    sampling_rate=1,\n",
    "    stride=1,\n",
    "    shuffle=True\n",
    ")\n",
    "\n",
    "#Ejemplo de secuencia resultante\n",
    "X_sample, y_sample = generator[0]\n",
    "print(f\"Input shape: {X_sample.shape}\")  # (batch, 90 días, 5 features)\n",
    "print(f\"Target shape: {y_sample.shape}\") # (batch, 5 días a predecir)"
   ]
  },
  {
   "cell_type": "markdown",
   "id": "f472f76a",
   "metadata": {},
   "source": [
    "### **2.4 División de Datos**  \n",
    "Dividir cronológicamente para preservar la integridad temporal:  \n",
    "- **Entrenamiento (2010-2018):** Datos con crisis históricas relevantes.  \n",
    "- **Validación (2019-2020):** Período COVID-19 para probar resiliencia ante shocks.  \n",
    "- **Test (2021-2024):** Datos recientes con alta inflación y tensión geopolítica.  \n",
    "\n",
    "**Código ejemplo:**"
   ]
  },
  {
   "cell_type": "code",
   "execution_count": null,
   "id": "b93333d5",
   "metadata": {},
   "outputs": [],
   "source": [
    "train = data.loc['2010':'2018']  \n",
    "val = data.loc['2019':'2020']  \n",
    "test = data.loc['2021':]"
   ]
  },
  {
   "cell_type": "markdown",
   "id": "81ef15c6",
   "metadata": {},
   "source": [
    "---\n",
    "\n",
    "## **3. Model Planning**  \n",
    "### **3.1 Definición del Problema**  \n",
    "El proyecto se enmarca como un problema de **regresión multivariante secuencial**, donde múltiples características (precio del oro, índice DXY, inflación, tasas de interés o volumen) se usan para predecir una secuencia futura. La LSTM es ideal por su capacidad para recordar patrones a largo plazo y gestionar dependencias temporales complejas, como ciclos macroeconómicos, crisis geopolíticas, y correlación histórica oro-dólar.\n",
    "\n",
    "### **3.2 Ejemplo de Arquitectura de la Red**  \n",
    "Diseñar una LSTM jerárquica **específica para series de commodities**:  \n",
    "1. **Capa LSTM (192 unidades):** Captura relaciones complejas en secuencias largas (90 días), incluyendo **patrones de demanda física (ej: compras centrales bancarias)**.  \n",
    "2. **Dropout (35%):** Aleatoriza la desactivación de neuronas para contrarrestar sobreajuste en datos con **eventos black-swan** (ej: crisis 2008, COVID-19).  \n",
    "3. **Capa LSTM (96 unidades):** Refina los patrones aprendidos, enfocándose en **dependencias macroeconómicas a mediano plazo** (ej: impacto de reuniones de la FED).  \n",
    "4. **Capa Densa (5 neuronas):** Genera predicciones para los 5 días futuros, usando activación lineal para regresión.  \n",
    "\n",
    "**Código adaptado (Keras):**  "
   ]
  },
  {
   "cell_type": "code",
   "execution_count": null,
   "id": "fe86c4b6",
   "metadata": {},
   "outputs": [],
   "source": [
    "model = Sequential([\n",
    "    LSTM(192, input_shape=(90, 6),  # 6 features: precio, DXY, tasas, volumen, ratio oro/dólar\n",
    "    Dropout(0.35),\n",
    "    LSTM(96, return_sequences=False),\n",
    "    Dense(5)\n",
    "])"
   ]
  },
  {
   "cell_type": "markdown",
   "id": "8393d869",
   "metadata": {},
   "source": [
    "### **3.3 Función de Pérdida y Optimizador**  \n",
    "- **Función de pérdida:** Error cuadrático medio (MSE) **con ponderación exponencial** (da 2x más peso a errores en períodos de alta volatilidad).  \n",
    "- **Optimizador:** Adam con **tasa de aprendizaje variable** (`lr=0.001` inicial, reduciendo a 0.0001 después de 50 épocas).  \n",
    "- **Métricas adicionales:**  \n",
    "  - **MAE:** Error absoluto medio  \n",
    "  - **Directional Accuracy:** Precisión direccional personalizada para oro (umbral de ±0.8% para considerar movimiento significativo)  \n",
    "\n",
    "\n",
    "### **3.4 Estrategias Contra el Sobreajuste**  **(OPCIONAL si lo ves necesario)**\n",
    "1. **Early Stopping:** Detener entrenamiento si pérdida en validación no mejora en **15 épocas** \n",
    "2. **Regularización L2 (λ=0.001):** Aplicada solo a capas LSTM para **evitar sobre-énfasis en features macroeconómicas**.  \n",
    "3. **Aumentación de datos: (OPCIONAL)**  \n",
    "   - **Ruido gaussiano** (σ=0.2) en secuencias de entrenamiento  \n",
    "   - **Time Warping:** Deformaciones temporales controladas (±5 días) para simular ciclos económicos acelerados/retrasados  \n",
    "\n",
    "---\n",
    "\n",
    "## **4. Model Building and Selection**  \n",
    "### **4.1 Implementación en Keras**  \n",
    "\n",
    "Construir la arquitectura usando la API secuencial de Keras, asegurando que las dimensiones de entrada coincidan con las secuencias (ej: `input_shape=(90, 7)` para **90 días históricos y 7 características**: precio oro, DXY, tasas FED, volumen, ratio oro/dólar, VIX). Configurar el entrenamiento por EJEMPLO con `batch_size=48` y `epochs=150`, monitoreando la pérdida en validación para ajustar hiperparámetros dinámicamente.  \n",
    "\n",
    "**Código de ejemplo:**"
   ]
  },
  {
   "cell_type": "code",
   "execution_count": null,
   "id": "0d92bc8f",
   "metadata": {},
   "outputs": [],
   "source": [
    "from keras.models import Sequential\n",
    "from keras.layers import LSTM, Dropout, Dense\n",
    "\n",
    "model = Sequential([\n",
    "    LSTM(192, input_shape=(90, 7), return_sequences=True),\n",
    "    Dropout(0.35),\n",
    "    LSTM(96),\n",
    "    Dense(5)  # Predice 5 días futuros\n",
    "])\n",
    "model.compile(optimizer='adam', loss='mse', metrics=['mae'])"
   ]
  },
  {
   "cell_type": "markdown",
   "id": "a97159f3",
   "metadata": {},
   "source": [
    "### **4.2 Experimentación con Hiperparámetros**  **OPCIONAL: Por temas de tiempo podemos reducir la experimientacion**\n",
    "Probar configuraciones alternativas para optimizar el modelo:  \n",
    "- **Número de capas LSTM:** Comparar 2 vs 3 capas, evaluando si mayor profundidad mejora la captura de **patrones macroeconómicos complejos**.  \n",
    "- **Unidades por capa:** Probar 96 vs 384 unidades, analizando impacto en la detección de **eventos geopolíticos relevantes para el oro**.  \n",
    "- **Tamaño de ventana histórica:** Evaluar si 60, 90 o 120 días proporcionan mejor contexto para predecir **ciclos largos típicos del oro**.  \n",
    "\n",
    "\n",
    "### **4.4 Interpretabilidad del Modelo**  **(OPCIONAL)**  \n",
    "- **SHAP Values para oro:**  Calcular la contribución de cada característica\n",
    "\n",
    "    Ejemplo:"
   ]
  },
  {
   "cell_type": "code",
   "execution_count": null,
   "id": "70e2fffe",
   "metadata": {},
   "outputs": [],
   "source": [
    "import shap\n",
    "explainer = shap.DeepExplainer(model, X_train[:100])\n",
    "shap_values = explainer.shap_values(X_test[:10])\n",
    "shap.summary_plot(shap_values, X_test, feature_names=['Precio', 'DXY', 'Tasas', 'Volumen', 'Ratio Oro/USD', 'VIX'])"
   ]
  },
  {
   "cell_type": "markdown",
   "id": "ffae8081",
   "metadata": {},
   "source": [
    "- **Visualización de Pesos LSTM:** Usar `keract` para analizar qué **eventos históricos** (ej: máximos del DXY en 2022) activan neuronas específicas: \n",
    "\n",
    "    Ejemplo:"
   ]
  },
  {
   "cell_type": "code",
   "execution_count": null,
   "id": "74301f8c",
   "metadata": {},
   "outputs": [],
   "source": [
    "from keract import get_activations\n",
    "activations = get_activations(model, X_sample, layer_names='lstm_1')"
   ]
  },
  {
   "cell_type": "markdown",
   "id": "98c90e0f",
   "metadata": {},
   "source": [
    "---\n",
    "\n",
    "## **5. Presentación de Resultados**  \n",
    "### **5.1 Evaluación Cuantitativa**  \n",
    "El alumno deberá generar un informe comparando las métricas clave (**RMSE, MAE, precisión direccional**) entre los conjuntos de entrenamiento, validación y test.  \n",
    "\n",
    "**(OPCIONAL)** Además, se incluirán gráficos de líneas superponiendo las predicciones del modelo con los valores reales en **períodos clave para el oro** (ej: crisis del COVID-19 en 2020, rally alcista de 2022 por inflación global), resaltando cómo el modelo:  \n",
    "- Acierta en tendencias impulsadas por **factores macroeconómicos estables** (ej: subidas de tasas progresivas)  \n",
    "- Falla durante **eventos geopolíticos abruptos** (ej: invasión de Ucrania en 2022)  \n",
    "\n",
    " ### **5.2 Análisis Cualitativo**  \n",
    "- **Casos de éxito:** Identificar períodos donde el modelo predijo correctamente tendencias impulsadas por factores macroeconómicos clave para el oro. Por ejemplo:  \n",
    "  - **2019-2020:** Subida durante tensiones comerciales USA-China y COVID-19 ([referencia histórica](https://www.gold.org/goldhub/data/gold-prices)).  \n",
    "  - **2022:** Rally por inflación global y alzas de tasas de la FED ([datos LBMA](https://www.lbma.org.uk/prices-and-data/precious-metal-prices)).  \n",
    "\n",
    "- **Casos de error:** Analizar momentos donde el modelo falló, investigando posibles causas:\n",
    "  - **Shocks externos no modelados:** Crisis geopolíticas repentinas.  \n",
    "  - **Cambios regulatorios:** Restricciones a la exportación/importación de oro.\n",
    " \n",
    "\n",
    "---\n",
    "\n",
    "## **6. Deployment**  \n",
    "### **6.1 Serialización del Modelo**  \n",
    "Guardar el modelo entrenado en formato `.h5` (Keras) o `.joblib` (Scikit-learn), incluyendo metadata específica para oro:  \n",
    "- **Features usadas:** Lista de variables macro (DXY, tasas de interés)  \n",
    "- **Rango temporal entrenamiento:** Ej: \"2011-01-01 a 2023-12-31\"  \n",
    "- **Normalizadores:** Guardar escaladores para **precio oro** y **DXY** por separado  \n",
    "\n",
    "### **6.2 Creación de una API REST**  **(OPCIONAL por temas de tiempo)**\n",
    "Desarrollar un servicio usando Flask/FastAPI que:  \n",
    "1. Reciba una solicitud con:  "
   ]
  },
  {
   "cell_type": "code",
   "execution_count": null,
   "id": "a37e2126",
   "metadata": {},
   "outputs": [],
   "source": [
    "{  \n",
    "   \"gold_prices\": [últimos 90 días],  \n",
    "   \"dxy_values\": [últimos 90 días],  \n",
    "   \"inflacion\": valor_mensual_actual  \n",
    "}"
   ]
  },
  {
   "cell_type": "markdown",
   "id": "ecbc30df",
   "metadata": {},
   "source": [
    "2. Preprocese los datos aplicando:  \n",
    "   - **Ratio oro/dólar** en tiempo real  \n",
    "   - Alineación temporal de datos macro mensuales con serie diaria  \n",
    "3. Genere predicción para **5 días + bandas de confianza** basadas en volatilidad histórica del oro  \n",
    "4. Ejemplo de respuesta:"
   ]
  },
  {
   "cell_type": "code",
   "execution_count": null,
   "id": "7acd90f6",
   "metadata": {},
   "outputs": [],
   "source": [
    "{  \n",
    "   \"predictions\": [2075.30, 2081.15, 2088.40, 2092.10, 2095.80],  \n",
    "   \"confidence_interval\": [±0.8%, ±1.1%, ±1.3%, ±1.6%, ±1.9%],  \n",
    "   \"hedge_recommendation\": \"SHORT DXY futures\"  \n",
    "}"
   ]
  }
 ],
 "metadata": {
  "kernelspec": {
   "display_name": ".venvWSL",
   "language": "python",
   "name": "python3"
  },
  "language_info": {
   "codemirror_mode": {
    "name": "ipython",
    "version": 3
   },
   "file_extension": ".py",
   "mimetype": "text/x-python",
   "name": "python",
   "nbconvert_exporter": "python",
   "pygments_lexer": "ipython3",
   "version": "3.12.3"
  }
 },
 "nbformat": 4,
 "nbformat_minor": 5
}
